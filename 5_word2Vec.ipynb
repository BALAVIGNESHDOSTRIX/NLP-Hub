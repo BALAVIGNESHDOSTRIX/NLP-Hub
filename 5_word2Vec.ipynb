{
  "nbformat": 4,
  "nbformat_minor": 0,
  "metadata": {
    "colab": {
      "name": "word2vec.ipynb",
      "provenance": [],
      "collapsed_sections": []
    },
    "kernelspec": {
      "name": "python3",
      "display_name": "Python 3"
    }
  },
  "cells": [
    {
      "cell_type": "code",
      "metadata": {
        "id": "js1m7u42MOBW",
        "colab_type": "code",
        "colab": {
          "base_uri": "https://localhost:8080/",
          "height": 68
        },
        "outputId": "8f08529b-9db9-4928-8be9-762f339f9b5a"
      },
      "source": [
        "import nltk\n",
        "nltk.download('punkt')"
      ],
      "execution_count": 3,
      "outputs": [
        {
          "output_type": "stream",
          "text": [
            "[nltk_data] Downloading package punkt to /root/nltk_data...\n",
            "[nltk_data]   Unzipping tokenizers/punkt.zip.\n"
          ],
          "name": "stdout"
        },
        {
          "output_type": "execute_result",
          "data": {
            "text/plain": [
              "True"
            ]
          },
          "metadata": {
            "tags": []
          },
          "execution_count": 3
        }
      ]
    },
    {
      "cell_type": "code",
      "metadata": {
        "id": "vOjIyB90MhGT",
        "colab_type": "code",
        "colab": {
          "base_uri": "https://localhost:8080/",
          "height": 154
        },
        "outputId": "12e6c005-303e-456a-8b2b-88ba0cb8cf5b"
      },
      "source": [
        "from gensim.models import Word2Vec\n",
        "from nltk.corpus import stopwords\n",
        "import re \n",
        "\n",
        "stopword_l = stopwords.words(\"english\")\n",
        "\n",
        "paragraph = \"\"\"I have three visions for India. In 3000 years of our history, people from all over \n",
        "               the world have come and invaded us, captured our lands, conquered our minds. \n",
        "               From Alexander onwards, the Greeks, the Turks, the Moguls, the Portuguese, the British,\n",
        "               the French, the Dutch, all of them came and looted us, took over what was ours. \n",
        "               Yet we have not done this to any other nation. We have not conquered anyone. \n",
        "               We have not grabbed their land, their culture, \n",
        "               their history and tried to enforce our way of life on them. \n",
        "               Why? Because we respect the freedom of others.That is why my \n",
        "               first vision is that of freedom. I believe that India got its first vision of \n",
        "               this in 1857, when we started the War of Independence. It is this freedom that\n",
        "               we must protect and nurture and build on. If we are not free, no one will respect us.\n",
        "               My second vision for India’s development. For fifty years we have been a developing nation.\n",
        "               It is time we see ourselves as a developed nation. We are among the top 5 nations of the world\n",
        "               in terms of GDP. We have a 10 percent growth rate in most areas. Our poverty levels are falling.\n",
        "               Our achievements are being globally recognised today. Yet we lack the self-confidence to\n",
        "               see ourselves as a developed nation, self-reliant and self-assured. Isn’t this incorrect?\n",
        "               I have a third vision. India must stand up to the world. Because I believe that unless India \n",
        "               stands up to the world, no one will respect us. Only strength respects strength. We must be \n",
        "               strong not only as a military power but also as an economic power. Both must go hand-in-hand. \n",
        "               My good fortune was to have worked with three great minds. Dr. Vikram Sarabhai of the Dept. of \n",
        "               space, Professor Satish Dhawan, who succeeded him and Dr. Brahm Prakash, father of nuclear material.\n",
        "               I was lucky to have worked with all three of them closely and consider this the great opportunity of my life. \n",
        "               I see four milestones in my career\"\"\"\n",
        "\n",
        "\n",
        "#Preprocessing the Sentence\n",
        "text = re.sub(r'\\[[0-9]*\\]',' ',paragraph)\n",
        "text = text = re.sub(r'\\s+',' ',text)\n",
        "text = text.lower()\n",
        "text = re.sub(r'\\d',' ',text)\n",
        "text = re.sub(r'\\s+',' ',text)\n",
        "text"
      ],
      "execution_count": 12,
      "outputs": [
        {
          "output_type": "execute_result",
          "data": {
            "application/vnd.google.colaboratory.intrinsic": {
              "type": "string"
            },
            "text/plain": [
              "'i have three visions for india. in years of our history, people from all over the world have come and invaded us, captured our lands, conquered our minds. from alexander onwards, the greeks, the turks, the moguls, the portuguese, the british, the french, the dutch, all of them came and looted us, took over what was ours. yet we have not done this to any other nation. we have not conquered anyone. we have not grabbed their land, their culture, their history and tried to enforce our way of life on them. why? because we respect the freedom of others.that is why my first vision is that of freedom. i believe that india got its first vision of this in , when we started the war of independence. it is this freedom that we must protect and nurture and build on. if we are not free, no one will respect us. my second vision for india’s development. for fifty years we have been a developing nation. it is time we see ourselves as a developed nation. we are among the top nations of the world in terms of gdp. we have a percent growth rate in most areas. our poverty levels are falling. our achievements are being globally recognised today. yet we lack the self-confidence to see ourselves as a developed nation, self-reliant and self-assured. isn’t this incorrect? i have a third vision. india must stand up to the world. because i believe that unless india stands up to the world, no one will respect us. only strength respects strength. we must be strong not only as a military power but also as an economic power. both must go hand-in-hand. my good fortune was to have worked with three great minds. dr. vikram sarabhai of the dept. of space, professor satish dhawan, who succeeded him and dr. brahm prakash, father of nuclear material. i was lucky to have worked with all three of them closely and consider this the great opportunity of my life. i see four milestones in my career'"
            ]
          },
          "metadata": {
            "tags": []
          },
          "execution_count": 12
        }
      ]
    },
    {
      "cell_type": "code",
      "metadata": {
        "id": "9rsHoDzLOPAE",
        "colab_type": "code",
        "colab": {
          "base_uri": "https://localhost:8080/",
          "height": 1000
        },
        "outputId": "66925a97-336e-4eec-ec73-c19d8536ef7d"
      },
      "source": [
        "#Preparing the Dataset\n",
        "sentences = nltk.sent_tokenize(text)\n",
        "words = [nltk.word_tokenize(sent) for sent in sentences]\n",
        "words"
      ],
      "execution_count": 16,
      "outputs": [
        {
          "output_type": "execute_result",
          "data": {
            "text/plain": [
              "[['i', 'have', 'three', 'visions', 'for', 'india', '.'],\n",
              " ['in',\n",
              "  'years',\n",
              "  'of',\n",
              "  'our',\n",
              "  'history',\n",
              "  ',',\n",
              "  'people',\n",
              "  'from',\n",
              "  'all',\n",
              "  'over',\n",
              "  'the',\n",
              "  'world',\n",
              "  'have',\n",
              "  'come',\n",
              "  'and',\n",
              "  'invaded',\n",
              "  'us',\n",
              "  ',',\n",
              "  'captured',\n",
              "  'our',\n",
              "  'lands',\n",
              "  ',',\n",
              "  'conquered',\n",
              "  'our',\n",
              "  'minds',\n",
              "  '.'],\n",
              " ['from',\n",
              "  'alexander',\n",
              "  'onwards',\n",
              "  ',',\n",
              "  'the',\n",
              "  'greeks',\n",
              "  ',',\n",
              "  'the',\n",
              "  'turks',\n",
              "  ',',\n",
              "  'the',\n",
              "  'moguls',\n",
              "  ',',\n",
              "  'the',\n",
              "  'portuguese',\n",
              "  ',',\n",
              "  'the',\n",
              "  'british',\n",
              "  ',',\n",
              "  'the',\n",
              "  'french',\n",
              "  ',',\n",
              "  'the',\n",
              "  'dutch',\n",
              "  ',',\n",
              "  'all',\n",
              "  'of',\n",
              "  'them',\n",
              "  'came',\n",
              "  'and',\n",
              "  'looted',\n",
              "  'us',\n",
              "  ',',\n",
              "  'took',\n",
              "  'over',\n",
              "  'what',\n",
              "  'was',\n",
              "  'ours',\n",
              "  '.'],\n",
              " ['yet',\n",
              "  'we',\n",
              "  'have',\n",
              "  'not',\n",
              "  'done',\n",
              "  'this',\n",
              "  'to',\n",
              "  'any',\n",
              "  'other',\n",
              "  'nation',\n",
              "  '.'],\n",
              " ['we', 'have', 'not', 'conquered', 'anyone', '.'],\n",
              " ['we',\n",
              "  'have',\n",
              "  'not',\n",
              "  'grabbed',\n",
              "  'their',\n",
              "  'land',\n",
              "  ',',\n",
              "  'their',\n",
              "  'culture',\n",
              "  ',',\n",
              "  'their',\n",
              "  'history',\n",
              "  'and',\n",
              "  'tried',\n",
              "  'to',\n",
              "  'enforce',\n",
              "  'our',\n",
              "  'way',\n",
              "  'of',\n",
              "  'life',\n",
              "  'on',\n",
              "  'them',\n",
              "  '.'],\n",
              " ['why', '?'],\n",
              " ['because',\n",
              "  'we',\n",
              "  'respect',\n",
              "  'the',\n",
              "  'freedom',\n",
              "  'of',\n",
              "  'others.that',\n",
              "  'is',\n",
              "  'why',\n",
              "  'my',\n",
              "  'first',\n",
              "  'vision',\n",
              "  'is',\n",
              "  'that',\n",
              "  'of',\n",
              "  'freedom',\n",
              "  '.'],\n",
              " ['i',\n",
              "  'believe',\n",
              "  'that',\n",
              "  'india',\n",
              "  'got',\n",
              "  'its',\n",
              "  'first',\n",
              "  'vision',\n",
              "  'of',\n",
              "  'this',\n",
              "  'in',\n",
              "  ',',\n",
              "  'when',\n",
              "  'we',\n",
              "  'started',\n",
              "  'the',\n",
              "  'war',\n",
              "  'of',\n",
              "  'independence',\n",
              "  '.'],\n",
              " ['it',\n",
              "  'is',\n",
              "  'this',\n",
              "  'freedom',\n",
              "  'that',\n",
              "  'we',\n",
              "  'must',\n",
              "  'protect',\n",
              "  'and',\n",
              "  'nurture',\n",
              "  'and',\n",
              "  'build',\n",
              "  'on',\n",
              "  '.'],\n",
              " ['if',\n",
              "  'we',\n",
              "  'are',\n",
              "  'not',\n",
              "  'free',\n",
              "  ',',\n",
              "  'no',\n",
              "  'one',\n",
              "  'will',\n",
              "  'respect',\n",
              "  'us',\n",
              "  '.'],\n",
              " ['my', 'second', 'vision', 'for', 'india', '’', 's', 'development', '.'],\n",
              " ['for',\n",
              "  'fifty',\n",
              "  'years',\n",
              "  'we',\n",
              "  'have',\n",
              "  'been',\n",
              "  'a',\n",
              "  'developing',\n",
              "  'nation',\n",
              "  '.'],\n",
              " ['it',\n",
              "  'is',\n",
              "  'time',\n",
              "  'we',\n",
              "  'see',\n",
              "  'ourselves',\n",
              "  'as',\n",
              "  'a',\n",
              "  'developed',\n",
              "  'nation',\n",
              "  '.'],\n",
              " ['we',\n",
              "  'are',\n",
              "  'among',\n",
              "  'the',\n",
              "  'top',\n",
              "  'nations',\n",
              "  'of',\n",
              "  'the',\n",
              "  'world',\n",
              "  'in',\n",
              "  'terms',\n",
              "  'of',\n",
              "  'gdp',\n",
              "  '.'],\n",
              " ['we', 'have', 'a', 'percent', 'growth', 'rate', 'in', 'most', 'areas', '.'],\n",
              " ['our', 'poverty', 'levels', 'are', 'falling', '.'],\n",
              " ['our',\n",
              "  'achievements',\n",
              "  'are',\n",
              "  'being',\n",
              "  'globally',\n",
              "  'recognised',\n",
              "  'today',\n",
              "  '.'],\n",
              " ['yet',\n",
              "  'we',\n",
              "  'lack',\n",
              "  'the',\n",
              "  'self-confidence',\n",
              "  'to',\n",
              "  'see',\n",
              "  'ourselves',\n",
              "  'as',\n",
              "  'a',\n",
              "  'developed',\n",
              "  'nation',\n",
              "  ',',\n",
              "  'self-reliant',\n",
              "  'and',\n",
              "  'self-assured',\n",
              "  '.'],\n",
              " ['isn', '’', 't', 'this', 'incorrect', '?'],\n",
              " ['i', 'have', 'a', 'third', 'vision', '.'],\n",
              " ['india', 'must', 'stand', 'up', 'to', 'the', 'world', '.'],\n",
              " ['because',\n",
              "  'i',\n",
              "  'believe',\n",
              "  'that',\n",
              "  'unless',\n",
              "  'india',\n",
              "  'stands',\n",
              "  'up',\n",
              "  'to',\n",
              "  'the',\n",
              "  'world',\n",
              "  ',',\n",
              "  'no',\n",
              "  'one',\n",
              "  'will',\n",
              "  'respect',\n",
              "  'us',\n",
              "  '.'],\n",
              " ['only', 'strength', 'respects', 'strength', '.'],\n",
              " ['we',\n",
              "  'must',\n",
              "  'be',\n",
              "  'strong',\n",
              "  'not',\n",
              "  'only',\n",
              "  'as',\n",
              "  'a',\n",
              "  'military',\n",
              "  'power',\n",
              "  'but',\n",
              "  'also',\n",
              "  'as',\n",
              "  'an',\n",
              "  'economic',\n",
              "  'power',\n",
              "  '.'],\n",
              " ['both', 'must', 'go', 'hand-in-hand', '.'],\n",
              " ['my',\n",
              "  'good',\n",
              "  'fortune',\n",
              "  'was',\n",
              "  'to',\n",
              "  'have',\n",
              "  'worked',\n",
              "  'with',\n",
              "  'three',\n",
              "  'great',\n",
              "  'minds',\n",
              "  '.'],\n",
              " ['dr.', 'vikram', 'sarabhai', 'of', 'the', 'dept', '.'],\n",
              " ['of',\n",
              "  'space',\n",
              "  ',',\n",
              "  'professor',\n",
              "  'satish',\n",
              "  'dhawan',\n",
              "  ',',\n",
              "  'who',\n",
              "  'succeeded',\n",
              "  'him',\n",
              "  'and',\n",
              "  'dr.',\n",
              "  'brahm',\n",
              "  'prakash',\n",
              "  ',',\n",
              "  'father',\n",
              "  'of',\n",
              "  'nuclear',\n",
              "  'material',\n",
              "  '.'],\n",
              " ['i',\n",
              "  'was',\n",
              "  'lucky',\n",
              "  'to',\n",
              "  'have',\n",
              "  'worked',\n",
              "  'with',\n",
              "  'all',\n",
              "  'three',\n",
              "  'of',\n",
              "  'them',\n",
              "  'closely',\n",
              "  'and',\n",
              "  'consider',\n",
              "  'this',\n",
              "  'the',\n",
              "  'great',\n",
              "  'opportunity',\n",
              "  'of',\n",
              "  'my',\n",
              "  'life',\n",
              "  '.'],\n",
              " ['i', 'see', 'four', 'milestones', 'in', 'my', 'career']]"
            ]
          },
          "metadata": {
            "tags": []
          },
          "execution_count": 16
        }
      ]
    },
    {
      "cell_type": "code",
      "metadata": {
        "id": "bYXFVDLFPMa0",
        "colab_type": "code",
        "colab": {}
      },
      "source": [
        "# Removing the stopwords from the word sentences\n",
        "for i in range(len(words)):\n",
        "  words[i] = [word for word in words[i] if not word in stopword_l]"
      ],
      "execution_count": 17,
      "outputs": []
    },
    {
      "cell_type": "code",
      "metadata": {
        "id": "NJ_FcFbQPxns",
        "colab_type": "code",
        "colab": {}
      },
      "source": [
        "# Training the wordVec Model\n",
        "WordVecModel = Word2Vec(words, min_count=1)"
      ],
      "execution_count": 18,
      "outputs": []
    },
    {
      "cell_type": "code",
      "metadata": {
        "id": "JTBXG4ufQFvp",
        "colab_type": "code",
        "colab": {}
      },
      "source": [
        "words = WordVecModel.wv.vocab"
      ],
      "execution_count": 20,
      "outputs": []
    },
    {
      "cell_type": "code",
      "metadata": {
        "id": "PqUZt61XQ9a8",
        "colab_type": "code",
        "colab": {
          "base_uri": "https://localhost:8080/",
          "height": 459
        },
        "outputId": "d2ab60bc-ebbb-46cd-cfee-579f4ccd6210"
      },
      "source": [
        "# Get the word vectors of the word\n",
        "WordVecModel.wv['hand-in-hand']"
      ],
      "execution_count": 22,
      "outputs": [
        {
          "output_type": "execute_result",
          "data": {
            "text/plain": [
              "array([ 5.0151104e-04,  2.9373858e-03, -4.1258060e-03,  1.6565095e-03,\n",
              "       -8.0008531e-04, -2.1461137e-04,  3.9118668e-03,  3.5220471e-03,\n",
              "       -3.4478693e-03, -1.9428345e-04, -1.8282409e-03,  3.8442926e-03,\n",
              "        1.8173236e-03,  2.3651645e-03, -4.7920467e-03,  1.4436867e-03,\n",
              "        2.8638449e-03, -2.3047763e-03, -4.1353521e-03, -2.6662040e-03,\n",
              "        4.6721091e-03, -2.3591821e-03,  3.5750626e-03, -2.1442615e-03,\n",
              "       -4.0905545e-03, -1.6128605e-03,  2.9298249e-03,  3.7965346e-03,\n",
              "        1.0320720e-03, -3.2909748e-03,  3.3874775e-03,  2.9445782e-03,\n",
              "        5.7113852e-04, -1.8142444e-03,  3.7439510e-03,  3.5792161e-03,\n",
              "        1.5053259e-03,  4.9664951e-03, -3.0907092e-03,  2.1877108e-04,\n",
              "       -4.6175141e-03,  9.1312389e-04, -2.0815728e-03, -3.3088872e-05,\n",
              "       -3.6448201e-03, -2.8706286e-03, -3.6128270e-04, -9.4502419e-04,\n",
              "        9.4499916e-04, -2.4655717e-03,  1.1709469e-03, -2.1046838e-03,\n",
              "        6.2660279e-04,  2.1888989e-03, -1.6581084e-03,  3.8709270e-03,\n",
              "       -5.7612383e-04, -1.5662303e-03, -2.9853715e-03,  1.8092110e-03,\n",
              "       -3.8358155e-03, -4.9036318e-03, -6.5286685e-04,  6.6754474e-05,\n",
              "        4.7953231e-03, -1.9410806e-03,  3.9259768e-03, -6.6905638e-04,\n",
              "        1.5025957e-03,  3.9421916e-03,  1.3678918e-03, -1.7224123e-03,\n",
              "        2.6723447e-03,  3.4301175e-04,  1.0460883e-03, -1.4438082e-03,\n",
              "       -3.0398362e-03, -5.1439076e-04, -1.7769140e-03, -4.8274263e-03,\n",
              "       -3.8390164e-04,  2.4372593e-03,  9.9157426e-04,  3.0413375e-03,\n",
              "       -3.8001009e-03, -1.6004709e-03, -1.3745406e-04,  1.1043241e-04,\n",
              "       -2.3550645e-03,  1.1249655e-03,  4.7363266e-03, -3.7154607e-03,\n",
              "        1.1748798e-03, -1.8269157e-03, -3.3488073e-03, -3.8740032e-03,\n",
              "       -2.6431580e-03, -7.4256409e-04,  2.2877799e-04,  3.6874516e-03],\n",
              "      dtype=float32)"
            ]
          },
          "metadata": {
            "tags": []
          },
          "execution_count": 22
        }
      ]
    },
    {
      "cell_type": "code",
      "metadata": {
        "id": "GSMVqVyGRKap",
        "colab_type": "code",
        "colab": {
          "base_uri": "https://localhost:8080/",
          "height": 241
        },
        "outputId": "f11a39a0-fcfe-4407-c432-55dd7a453596"
      },
      "source": [
        "# Most similar words\n",
        "WordVecModel.wv.most_similar('nuclear')"
      ],
      "execution_count": 23,
      "outputs": [
        {
          "output_type": "stream",
          "text": [
            "/usr/local/lib/python3.6/dist-packages/gensim/matutils.py:737: FutureWarning: Conversion of the second argument of issubdtype from `int` to `np.signedinteger` is deprecated. In future, it will be treated as `np.int64 == np.dtype(int).type`.\n",
            "  if np.issubdtype(vec.dtype, np.int):\n"
          ],
          "name": "stderr"
        },
        {
          "output_type": "execute_result",
          "data": {
            "text/plain": [
              "[('vikram', 0.30758726596832275),\n",
              " ('years', 0.29730215668678284),\n",
              " ('started', 0.27397459745407104),\n",
              " ('us', 0.2548861801624298),\n",
              " ('third', 0.25381186604499817),\n",
              " ('onwards', 0.24876904487609863),\n",
              " ('protect', 0.23463454842567444),\n",
              " ('opportunity', 0.16884775459766388),\n",
              " ('.', 0.161098912358284),\n",
              " ('self-assured', 0.15795551240444183)]"
            ]
          },
          "metadata": {
            "tags": []
          },
          "execution_count": 23
        }
      ]
    }
  ]
}
