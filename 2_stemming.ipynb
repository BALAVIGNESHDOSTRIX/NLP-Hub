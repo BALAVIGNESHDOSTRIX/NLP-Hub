{
  "nbformat": 4,
  "nbformat_minor": 0,
  "metadata": {
    "colab": {
      "name": "stem.ipynb",
      "provenance": [],
      "collapsed_sections": []
    },
    "kernelspec": {
      "name": "python3",
      "display_name": "Python 3"
    }
  },
  "cells": [
    {
      "cell_type": "code",
      "metadata": {
        "id": "IoVfs0ywzPas",
        "colab_type": "code",
        "colab": {
          "base_uri": "https://localhost:8080/",
          "height": 51
        },
        "outputId": "46a3a068-f246-4ec9-e351-7260be144b76"
      },
      "source": [
        "import nltk\n",
        "nltk.download('punkt')\n",
        "from nltk.stem import PorterStemmer\n",
        "from nltk.corpus import stopwords\n",
        "\n",
        "paragraph = \"\"\"I have three visions for India. In 3000 years of our history, people from all over \n",
        "               the world have come and invaded us, captured our lands, conquered our minds. \n",
        "               From Alexander onwards, the Greeks, the Turks, the Moguls, the Portuguese, the British,\n",
        "               the French, the Dutch, all of them came and looted us, took over what was ours. \n",
        "               Yet we have not done this to any other nation. We have not conquered anyone. \n",
        "               We have not grabbed their land, their culture, \n",
        "               their history and tried to enforce our way of life on them. \n",
        "               Why? Because we respect the freedom of others.That is why my \n",
        "               first vision is that of freedom. I believe that India got its first vision of \n",
        "               this in 1857, when we started the War of Independence. It is this freedom that\n",
        "               we must protect and nurture and build on. If we are not free, no one will respect us.\n",
        "               My second vision for India’s development. For fifty years we have been a developing nation.\n",
        "               It is time we see ourselves as a developed nation. We are among the top 5 nations of the world\n",
        "               in terms of GDP. We have a 10 percent growth rate in most areas. Our poverty levels are falling.\n",
        "               Our achievements are being globally recognised today. Yet we lack the self-confidence to\n",
        "               see ourselves as a developed nation, self-reliant and self-assured. Isn’t this incorrect?\n",
        "               I have a third vision. India must stand up to the world. Because I believe that unless India \n",
        "               stands up to the world, no one will respect us. Only strength respects strength. We must be \n",
        "               strong not only as a military power but also as an economic power. Both must go hand-in-hand. \n",
        "               My good fortune was to have worked with three great minds. Dr. Vikram Sarabhai of the Dept. of \n",
        "               space, Professor Satish Dhawan, who succeeded him and Dr. Brahm Prakash, father of nuclear material.\n",
        "               I was lucky to have worked with all three of them closely and consider this the great opportunity of my life. \n",
        "               I see four milestones in my career\"\"\"\n",
        "               "
      ],
      "execution_count": 2,
      "outputs": [
        {
          "output_type": "stream",
          "text": [
            "[nltk_data] Downloading package punkt to /root/nltk_data...\n",
            "[nltk_data]   Unzipping tokenizers/punkt.zip.\n"
          ],
          "name": "stdout"
        }
      ]
    },
    {
      "cell_type": "code",
      "metadata": {
        "id": "R3xIPAlg04pu",
        "colab_type": "code",
        "colab": {}
      },
      "source": [
        "sentences = nltk.sent_tokenize(paragraph)"
      ],
      "execution_count": 7,
      "outputs": []
    },
    {
      "cell_type": "code",
      "metadata": {
        "id": "Bb2flmbi1QJ-",
        "colab_type": "code",
        "colab": {}
      },
      "source": [
        "#  nltk.download('stopwords')\n",
        "\n",
        "stemmer = PorterStemmer()\n",
        "stopword_l = set(stopwords.words('english'))\n",
        "\n",
        "for i in range(len(sentences)):\n",
        "  sentences[i] = ' '.join([stemmer.stem(word) for word in nltk.word_tokenize(sentences[i]) if word not in stopword_l])"
      ],
      "execution_count": 12,
      "outputs": []
    },
    {
      "cell_type": "code",
      "metadata": {
        "id": "yvt7Y8W52BHp",
        "colab_type": "code",
        "colab": {
          "base_uri": "https://localhost:8080/",
          "height": 544
        },
        "outputId": "3cbd211f-6ea5-4546-be93-5f58c3c369d6"
      },
      "source": [
        "sentences"
      ],
      "execution_count": 11,
      "outputs": [
        {
          "output_type": "execute_result",
          "data": {
            "text/plain": [
              "['ithreevisionindia .',\n",
              " 'in3000yearhistori , peoplworldcomeinvadu , capturland , conquermind .',\n",
              " 'fromalexandonward , greek , turk , mogul , portugu , british , french , dutch , camelootu , took .',\n",
              " 'yetdonen .',\n",
              " 'weconqueranyon .',\n",
              " 'wegrabland , cultur , historitrienforcwaylif .',\n",
              " 'whi ?',\n",
              " 'becausrespectfreedomothers.thatfirstvisionfreedom .',\n",
              " 'ibelievindiagotfirstvision1857 , startwarindepend .',\n",
              " 'itfreedommustprotectnurturbuild .',\n",
              " 'iffre , onerespectu .',\n",
              " 'mysecondvisionindia ’ develop .',\n",
              " 'forfiftiyeardevelopn .',\n",
              " 'ittimeseedevelopn .',\n",
              " 'weamongtop5nationworldtermgdp .',\n",
              " 'we10percentgrowthratearea .',\n",
              " 'ourpovertilevelfal .',\n",
              " 'ourachievglobalrecognistoday .',\n",
              " 'yetlackself-confidseedevelopn , self-reliself-assur .',\n",
              " '’ incorrect ?',\n",
              " 'ithirdvis .',\n",
              " 'indiamuststandworld .',\n",
              " 'becausibelievunlessindiastandworld , onerespectu .',\n",
              " 'onlistrengthrespectstrength .',\n",
              " 'wemuststrongmilitaripoweralsoeconompow .',\n",
              " 'bothmustgohand-in-hand .',\n",
              " 'mygoodfortunworkthreegreatmind .',\n",
              " 'dr.vikramsarabhaidept .',\n",
              " 'space , professorsatishdhawan , succeeddr.brahmprakash , fathernuclearmateri .',\n",
              " 'iluckiworkthreecloseconsidgreatopportunlif .',\n",
              " 'iseefourmilestoncar']"
            ]
          },
          "metadata": {
            "tags": []
          },
          "execution_count": 11
        }
      ]
    }
  ]
}
